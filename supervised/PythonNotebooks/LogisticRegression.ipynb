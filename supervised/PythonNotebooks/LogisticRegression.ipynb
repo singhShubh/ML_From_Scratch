{
 "cells": [
  {
   "cell_type": "markdown",
   "metadata": {},
   "source": [
    "## Logistic Regression"
   ]
  },
  {
   "cell_type": "code",
   "execution_count": 17,
   "metadata": {
    "collapsed": false
   },
   "outputs": [],
   "source": [
    "import numpy as np\n",
    "import scipy.optimize as opt  \n",
    "            \n",
    "\n",
    "class LogisticRegression:\n",
    "    def __init__(self):\n",
    "        self.__theta = None\n",
    "        self.__trainDone = False\n",
    "\n",
    "    @staticmethod\n",
    "    def compute_cost(theta, X, Y, l=0):\n",
    "        theta = np.matrix(theta)\n",
    "        print(theta.shape)\n",
    "        m,n = X.shape\n",
    "        z = X*theta.T\n",
    "        hypothesis = LogisticRegression.sigmoid(z)\n",
    "        temp_theta = theta[1:n]\n",
    "        regularization_term = (l/2.0) * np.sum(np.power(temp_theta, 2))\n",
    "        J = (-1.0/m)*(Y.T*np.log(hypothesis) +((1-Y).T)*np.log(1-hypothesis) + regularization_term)\n",
    "        return J\n",
    "\n",
    "    @staticmethod\n",
    "    def compute_gradient(theta, X, Y, l=0):\n",
    "        m = X.shape[0]\n",
    "        theta = np.matrix(theta)\n",
    "        hypothesis = LogisticRegression.sigmoid(X * theta.T)\n",
    "        error = hypothesis - Y\n",
    "        regularization_term = l * np.sum(theta.T)\n",
    "        grad = (1.0 / m) * ( X.T*error + regularization_term)\n",
    "        return grad\n",
    "\n",
    "\n",
    "    @staticmethod\n",
    "    def sigmoid(z):\n",
    "        h = np.matrix(1.0/(1.0+ np.power(np.e,-1*z)))\n",
    "        return h\n",
    "\n",
    "    def optm(self, X, Y):\n",
    "        X = np.matrix(np.insert(X, 0, 1, axis=1))\n",
    "        n = X.shape[1]\n",
    "        theta = np.matrix(np.zeros(shape=(n,1), dtype='float'))\n",
    "        print(theta.shape)\n",
    "        result = opt.fmin_tnc(func=LogisticRegression.compute_cost, x0=theta, fprime=LogisticRegression.compute_gradient, args=(X, Y))  \n",
    "        print(result)\n",
    "            \n",
    "    def predict(self, X):\n",
    "        if self._trainDone:\n",
    "            X = np.insert(X, 0, 1, axis=1)\n",
    "            m = X.shape[0]\n",
    "            Y = np.matrix(np.zeros(shape=(m,1),dtype='float'))\n",
    "#             self.__theta = np.matrix([[-22.27078586],[  0.6339444 ],[  0.3360944 ]])\n",
    "            Y[:, 0]=LogisticRegression.sigmoid(X*self.__theta)\n",
    "            res_Y = Y>0.5\n",
    "            return res_Y\n",
    "        else:\n",
    "            print(\"First train the classifier to make predictons\")\n",
    "            return\n",
    "\n",
    "    def accuracy(self, predicted, actual):\n",
    "        acc=0\n",
    "        n = predicted.shape[0]\n",
    "        for i in range(n):\n",
    "            if predicted[i] == actual[i]:\n",
    "                acc+=1\n",
    "        acc/=n\n",
    "        return acc"
   ]
  },
  {
   "cell_type": "markdown",
   "metadata": {},
   "source": [
    "Here we will build a logistic regression model to predict whether a student gets admitted into a university. Suppose that you are the administrator of a university department and you want to determine each applicant’s chance of admission based on their results on two exams. You have historical data from previous applicants that you can use as a training set for logistic regression. For each training example, you have the applicant’s scores on two exams and the admissions decision.\n",
    "Your task is to build a classification model that estimates an applicant’s probability of admission based the scores from those two exams."
   ]
  },
  {
   "cell_type": "code",
   "execution_count": 2,
   "metadata": {
    "collapsed": false
   },
   "outputs": [
    {
     "name": "stderr",
     "output_type": "stream",
     "text": [
      "/home/hackingbot/anaconda2/lib/python2.7/site-packages/matplotlib/font_manager.py:273: UserWarning: Matplotlib is building the font cache using fc-list. This may take a moment.\n",
      "  warnings.warn('Matplotlib is building the font cache using fc-list. This may take a moment.')\n"
     ]
    }
   ],
   "source": [
    "import pandas as pd\n",
    "from matplotlib import pyplot as plt"
   ]
  },
  {
   "cell_type": "code",
   "execution_count": 3,
   "metadata": {
    "collapsed": false
   },
   "outputs": [
    {
     "data": {
      "text/html": [
       "<div>\n",
       "<table border=\"1\" class=\"dataframe\">\n",
       "  <thead>\n",
       "    <tr style=\"text-align: right;\">\n",
       "      <th></th>\n",
       "      <th>Exam1</th>\n",
       "      <th>Exam2</th>\n",
       "      <th>Label</th>\n",
       "    </tr>\n",
       "  </thead>\n",
       "  <tbody>\n",
       "    <tr>\n",
       "      <th>0</th>\n",
       "      <td>34.623660</td>\n",
       "      <td>78.024693</td>\n",
       "      <td>0</td>\n",
       "    </tr>\n",
       "    <tr>\n",
       "      <th>1</th>\n",
       "      <td>30.286711</td>\n",
       "      <td>43.894998</td>\n",
       "      <td>0</td>\n",
       "    </tr>\n",
       "    <tr>\n",
       "      <th>2</th>\n",
       "      <td>35.847409</td>\n",
       "      <td>72.902198</td>\n",
       "      <td>0</td>\n",
       "    </tr>\n",
       "    <tr>\n",
       "      <th>3</th>\n",
       "      <td>60.182599</td>\n",
       "      <td>86.308552</td>\n",
       "      <td>1</td>\n",
       "    </tr>\n",
       "    <tr>\n",
       "      <th>4</th>\n",
       "      <td>79.032736</td>\n",
       "      <td>75.344376</td>\n",
       "      <td>1</td>\n",
       "    </tr>\n",
       "  </tbody>\n",
       "</table>\n",
       "</div>"
      ],
      "text/plain": [
       "       Exam1      Exam2  Label\n",
       "0  34.623660  78.024693      0\n",
       "1  30.286711  43.894998      0\n",
       "2  35.847409  72.902198      0\n",
       "3  60.182599  86.308552      1\n",
       "4  79.032736  75.344376      1"
      ]
     },
     "execution_count": 3,
     "metadata": {},
     "output_type": "execute_result"
    }
   ],
   "source": [
    "df = pd.read_csv('../data/classification_1.txt', header=None)\n",
    "df = df.rename(columns={0:'Exam1',\n",
    "                   1:'Exam2',\n",
    "                   2:'Label'})\n",
    "df.head()"
   ]
  },
  {
   "cell_type": "code",
   "execution_count": 4,
   "metadata": {
    "collapsed": false
   },
   "outputs": [
    {
     "data": {
      "image/png": "[encoded data removed]",
      "text/plain": [
       "<matplotlib.figure.Figure at 0x7fda9067cc10>"
      ]
     },
     "metadata": {},
     "output_type": "display_data"
    }
   ],
   "source": [
    "y = df.as_matrix(['Label'])\n",
    "x = df.as_matrix(['Exam1','Exam2'])\n",
    "pass_df =df[df['Label']==1]\n",
    "fail_df =df[df['Label']==0]\n",
    "plt.style.use('ggplot')\n",
    "plt.figure(1)\n",
    "plt.scatter(pass_df['Exam1'],pass_df['Exam2'],c='g')\n",
    "plt.scatter(fail_df['Exam1'],fail_df['Exam2'],c='r')\n",
    "plt.legend(['Pass','Fail'],loc=1)\n",
    "plt.show()"
   ]
  },
  {
   "cell_type": "code",
   "execution_count": 18,
   "metadata": {
    "collapsed": true
   },
   "outputs": [],
   "source": [
    "clf = LogisticRegression()"
   ]
  },
  {
   "cell_type": "code",
   "execution_count": 19,
   "metadata": {
    "collapsed": false
   },
   "outputs": [
    {
     "name": "stdout",
     "output_type": "stream",
     "text": [
      "(3, 1)\n",
      "(1, 3)\n",
      "(1, 3)\n",
      "(1, 3)\n",
      "(1, 3)\n",
      "(1, 3)\n",
      "(1, 3)\n",
      "(1, 3)\n",
      "(1, 3)\n",
      "(1, 3)\n",
      "(1, 3)\n",
      "(1, 3)\n",
      "(1, 3)\n",
      "(1, 3)\n",
      "(1, 3)\n",
      "(1, 3)\n",
      "(1, 3)\n",
      "(1, 3)\n",
      "(1, 3)\n",
      "(1, 3)\n",
      "(1, 3)\n",
      "(1, 3)\n",
      "(1, 3)\n",
      "(1, 3)\n",
      "(1, 3)\n",
      "(1, 3)\n",
      "(1, 3)\n",
      "(1, 3)\n",
      "(1, 3)\n",
      "(1, 3)\n",
      "(1, 3)\n",
      "(1, 3)\n",
      "(1, 3)\n",
      "(1, 3)\n",
      "(1, 3)\n",
      "(1, 3)\n",
      "(1, 3)\n",
      "(1, 3)\n",
      "(array([-25.1613185 ,   0.20623159,   0.20147148]), 36, 0)\n"
     ]
    }
   ],
   "source": [
    "clf.optm(x,y)"
   ]
  },
  {
   "cell_type": "code",
   "execution_count": null,
   "metadata": {
    "collapsed": false
   },
   "outputs": [],
   "source": [
    "predicted_y = clf.predict(x)"
   ]
  },
  {
   "cell_type": "code",
   "execution_count": null,
   "metadata": {
    "collapsed": false
   },
   "outputs": [],
   "source": []
  },
  {
   "cell_type": "code",
   "execution_count": null,
   "metadata": {
    "collapsed": true
   },
   "outputs": [],
   "source": []
  }
 ],
 "metadata": {
  "anaconda-cloud": {},
  "kernelspec": {
   "display_name": "Python [default]",
   "language": "python",
   "name": "python2"
  },
  "language_info": {
   "codemirror_mode": {
    "name": "ipython",
    "version": 2
   },
   "file_extension": ".py",
   "mimetype": "text/x-python",
   "name": "python",
   "nbconvert_exporter": "python",
   "pygments_lexer": "ipython2",
   "version": "2.7.12"
  }
 },
 "nbformat": 4,
 "nbformat_minor": 1
}
