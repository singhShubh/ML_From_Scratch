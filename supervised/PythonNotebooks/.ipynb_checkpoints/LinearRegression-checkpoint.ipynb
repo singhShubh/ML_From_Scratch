{
 "cells": [
  {
   "cell_type": "markdown",
   "metadata": {},
   "source": [
    "# Linear Regression"
   ]
  },
  {
   "cell_type": "markdown",
   "metadata": {},
   "source": [
    "Here, we will learn how to code Linear Regression from scratch and then we will see how it works."
   ]
  },
  {
   "cell_type": "code",
   "execution_count": 3,
   "metadata": {
    "collapsed": false
   },
   "outputs": [],
   "source": [
    "import numpy as np\n",
    "import pickle\n",
    "\n",
    "\n",
    "class LinearRegression:\n",
    "\n",
    "    def __init__(self):\n",
    "        self.__theta = None #model parameters\n",
    "        self.__testDone = False #flag\n",
    "\n",
    "    ''' \n",
    "        fit() method takes three parameters X,Y, and lambda\n",
    "        X: feature matrix of type numpy.matrix\n",
    "        Y: output/target matrix of type numpy.matrix\n",
    "        l: regularization parameter with a default value of 1\n",
    "        The method uses Normal Equation to get the optimised parameters which will give the best fit for our data.\n",
    "    '''\n",
    "    def fit(self,X,Y,l=1):\n",
    "        n = X.shape[1]\n",
    "        X=np.matrix(np.insert(X,0,np.ones(shape=(1,X.shape[0]),dtype=float),axis=1))\n",
    "        regularization_term = np.insert(np.eye(n),0,0,axis=1)\n",
    "        regularization_term = l*np.matrix(np.insert(regularization_term,0,0,axis=0))\n",
    "        theta = np.linalg.pinv(X.T*X + regularization_term)*X.T*Y\n",
    "        self.__theta = theta\n",
    "        self.__testDone = True\n",
    "        \n",
    "    \n",
    "    '''\n",
    "        predict() method takes one parameter X\n",
    "        X: feature matrix of type numpy.matrix\n",
    "        It returns the predicted values/output as numpy array\n",
    "    '''\n",
    "    def predict(self,X):\n",
    "        if self.__testDone:\n",
    "            X = np.insert(X, 0, 1, axis=1)\n",
    "            return X * self.__theta\n",
    "        else:\n",
    "            print(\"First train the classifier to make predictons\")\n",
    "            return\n",
    "\n",
    "        \n",
    "    '''\n",
    "        save_model() method saves the training model to the disk.\n",
    "    '''\n",
    "    def save_model(self):\n",
    "        with open(\"model.lr\", 'wb') as f:\n",
    "            pickle._dump(self,f)\n",
    "        return\n",
    "\n",
    "    \n",
    "    '''\n",
    "        load_model() method loads training model from the disk.\n",
    "    '''\n",
    "    def load_model(self):\n",
    "        pickle_in = open(\"model.lr\", 'rb')\n",
    "        model_obj = pickle.load(pickle_in)\n",
    "        self.__theta = model_obj.__theta\n",
    "        self.__testDone = model_obj.__testDone\n",
    "        return\n",
    "\n",
    "    \n",
    "    '''\n",
    "        accuracy() method gives a way to summarize how well a linear regression model fits the data.\n",
    "        It is the proportion of variation in the forecast variable that is accounted for (or explained) \n",
    "        by the regression model.\n",
    "        If the predictions are close to the actual values, we would expect the output of the method\n",
    "        to be close to 1. On the other hand, if the predictions are unrelated to the actual values, \n",
    "        then output will be close to 0. In all cases, output lies between 0 and 1.\n",
    "    '''\n",
    "    def accuracy(self,predicted,actual):\n",
    "        mean = np.mean(actual)\n",
    "        acc = np.sum(np.power((predicted-mean),2))/np.sum(np.power((actual-mean),2))\n",
    "        return acc"
   ]
  },
  {
   "cell_type": "markdown",
   "metadata": {},
   "source": [
    "### Now we will use the class for solving the following problem:"
   ]
  },
  {
   "cell_type": "markdown",
   "metadata": {},
   "source": [
    "Suppose you are the CEO of arestaurant franchise and are considering different cities for opening a new\n",
    "outlet. The chain already has trucks in various cities and you have data forprofits and populations from the cities.\n",
    "You would like to use this data to help you select which city to expand to next.\n",
    "\n",
    "The file lr_data.csv contains the dataset for our linear regression problem. The first column is the population of a city and the second column is the profit of a food truck in that city. A negative value for profit indicates a loss."
   ]
  },
  {
   "cell_type": "code",
   "execution_count": 6,
   "metadata": {
    "collapsed": false
   },
   "outputs": [],
   "source": [
    "import pandas as pd\n",
    "from matplotlib import pyplot as plt\n",
    "\n",
    "\n",
    "#-------------Reading data from the data file('lr_data.csv')---------------\n",
    "df = pd.read_csv('../data/lr_data.csv', header=None)\n",
    "df = df.rename(columns={0:'Population in 10,000s',\n",
    "                        1: 'Profit in $10,000s'})\n"
   ]
  },
  {
   "cell_type": "code",
   "execution_count": 9,
   "metadata": {
    "collapsed": false
   },
   "outputs": [
    {
     "data": {
      "image/png": "[encoded data removed]",
      "text/plain": [
       "<matplotlib.figure.Figure at 0x7fe73699c050>"
      ]
     },
     "metadata": {},
     "output_type": "display_data"
    }
   ],
   "source": [
    "#----------------Creating feature matrix and the output matrix------------------\n",
    "x= df.as_matrix(['Population in 10,000s'])\n",
    "y= df.as_matrix(['Profit in $10,000s'])\n",
    "\n",
    "\n",
    "#------------------------Visualising the training data--------------------------\n",
    "plt.figure(1)\n",
    "plt.scatter(x[:,-1],y)\n",
    "plt.xlabel('Population in 10,000s')\n",
    "plt.ylabel('Profit in $10,000s')\n",
    "plt.legend(['Training data'],loc=2)\n",
    "plt.show()"
   ]
  },
  {
   "cell_type": "code",
   "execution_count": 10,
   "metadata": {
    "collapsed": true
   },
   "outputs": [],
   "source": [
    "#-----------------------Creating and training the model-------------------------\n",
    "clf = LinearRegression()\n",
    "clf.fit(x,y,1)\n",
    "\n",
    "#-----------------Predicting the output for the training set--------------------\n",
    "predictions = clf.predict(x)\n"
   ]
  },
  {
   "cell_type": "code",
   "execution_count": null,
   "metadata": {
    "collapsed": true
   },
   "outputs": [],
   "source": []
  }
 ],
 "metadata": {
  "anaconda-cloud": {},
  "kernelspec": {
   "display_name": "Python [default]",
   "language": "python",
   "name": "python2"
  },
  "language_info": {
   "codemirror_mode": {
    "name": "ipython",
    "version": 2
   },
   "file_extension": ".py",
   "mimetype": "text/x-python",
   "name": "python",
   "nbconvert_exporter": "python",
   "pygments_lexer": "ipython2",
   "version": "2.7.12"
  }
 },
 "nbformat": 4,
 "nbformat_minor": 1
}
